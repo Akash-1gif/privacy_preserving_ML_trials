{
 "cells": [
  {
   "cell_type": "code",
   "execution_count": 1,
   "id": "e30c1a02-2779-405e-804c-ce78c7000b14",
   "metadata": {},
   "outputs": [],
   "source": [
    "import tenseal as ts\n",
    "import utils"
   ]
  },
  {
   "cell_type": "markdown",
   "id": "2bfcc765-2448-47c6-b2bb-61b0ad013da4",
   "metadata": {},
   "source": [
    "#### Extracting public and private key:"
   ]
  },
  {
   "cell_type": "code",
   "execution_count": 2,
   "id": "b6a714d1-a822-49a9-b080-1e26e9d7271f",
   "metadata": {},
   "outputs": [],
   "source": [
    "context=ts.context_from(utils.read_data('keys1/public.txt'))"
   ]
  },
  {
   "cell_type": "code",
   "execution_count": 3,
   "id": "834644b4-2259-4965-a005-f36ef619e210",
   "metadata": {},
   "outputs": [],
   "source": [
    "context2=ts.context_from(utils.read_data('keys1/secret.txt'))"
   ]
  },
  {
   "cell_type": "markdown",
   "id": "6ac81b42-8a59-412a-a929-8bd23f1e9c8a",
   "metadata": {},
   "source": [
    "#### extracting the encrypted data:"
   ]
  },
  {
   "cell_type": "code",
   "execution_count": 4,
   "id": "13c7f929-9902-49c3-ba2b-58be49f54c91",
   "metadata": {},
   "outputs": [],
   "source": [
    "salary_procto=utils.read_data('demo_encrypted_objects/salary_encrypted.txt')\n",
    "salary_encrypted=ts.lazy_ckks_vector_from(salary_procto)\n",
    "salary_encrypted.link_context(context2)"
   ]
  },
  {
   "cell_type": "code",
   "execution_count": 5,
   "id": "28704fd0-8f4f-4b6a-b0a9-8ba8323db35f",
   "metadata": {},
   "outputs": [
    {
     "name": "stdout",
     "output_type": "stream",
     "text": [
      "[1000.0000000004693, 1999.9999999992772, 2999.9999999991433]\n"
     ]
    }
   ],
   "source": [
    "print(salary_encrypted.decrypt())"
   ]
  },
  {
   "cell_type": "code",
   "execution_count": null,
   "id": "85014293-15cb-46f5-9f7e-c021033ac8e5",
   "metadata": {},
   "outputs": [],
   "source": []
  }
 ],
 "metadata": {
  "kernelspec": {
   "display_name": "Python 3 (ipykernel)",
   "language": "python",
   "name": "python3"
  },
  "language_info": {
   "codemirror_mode": {
    "name": "ipython",
    "version": 3
   },
   "file_extension": ".py",
   "mimetype": "text/x-python",
   "name": "python",
   "nbconvert_exporter": "python",
   "pygments_lexer": "ipython3",
   "version": "3.10.0"
  }
 },
 "nbformat": 4,
 "nbformat_minor": 5
}
