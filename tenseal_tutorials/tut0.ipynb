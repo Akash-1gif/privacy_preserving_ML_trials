{
 "cells": [
  {
   "cell_type": "markdown",
   "id": "a2802e30-580f-4831-a358-a3aa2ede9abd",
   "metadata": {},
   "source": [
    "### Creating TenSEAL context:"
   ]
  },
  {
   "cell_type": "code",
   "execution_count": 1,
   "id": "0a425146-6fe2-462f-9eb9-c31a0b375683",
   "metadata": {},
   "outputs": [],
   "source": [
    "import tenseal as ts"
   ]
  },
  {
   "cell_type": "markdown",
   "id": "0175d19c-06ba-4416-8a7b-65de73d56fac",
   "metadata": {},
   "source": [
    "#### creating tenSEAL context:"
   ]
  },
  {
   "cell_type": "code",
   "execution_count": 2,
   "id": "f45ef8d3-1493-4c00-be1c-70f9004666db",
   "metadata": {},
   "outputs": [
    {
     "data": {
      "text/plain": [
       "<tenseal.enc_context.Context at 0x19a634b4f40>"
      ]
     },
     "execution_count": 2,
     "metadata": {},
     "output_type": "execute_result"
    }
   ],
   "source": [
    "context=ts.context(\n",
    "    ts.SCHEME_TYPE.BFV,\n",
    "    poly_modulus_degree=4096,\n",
    "    plain_modulus=1032193\n",
    ")\n",
    "\n",
    "context"
   ]
  },
  {
   "cell_type": "markdown",
   "id": "3501af71-7fb7-43a7-ba72-9c5b97823d7f",
   "metadata": {},
   "source": [
    "#### In the above cell, we have created tesSEAL context, and currently it holds the secret key (which can be used to decrypt the data):"
   ]
  },
  {
   "cell_type": "code",
   "execution_count": 3,
   "id": "9ea9213f-eed2-411a-a02d-8c73fc1e308b",
   "metadata": {},
   "outputs": [
    {
     "name": "stdout",
     "output_type": "stream",
     "text": [
      "Is this context private: YES\n",
      "Is this context public: No\n"
     ]
    }
   ],
   "source": [
    "print(\"Is this context private:\",\"YES\" if context.is_private() else \"No\")\n",
    "print(\"Is this context public:\",\"YES\" if context.is_public() else \"No\")"
   ]
  },
  {
   "cell_type": "markdown",
   "id": "8bba0cf0-b829-41d1-a598-8aaf76630a6c",
   "metadata": {},
   "source": [
    "#### Storing the secret key possessed by tenSEAL context:"
   ]
  },
  {
   "cell_type": "code",
   "execution_count": 4,
   "id": "b7756890-5349-42d1-8760-99832936244a",
   "metadata": {},
   "outputs": [],
   "source": [
    "secret_key=context.secret_key()"
   ]
  },
  {
   "cell_type": "code",
   "execution_count": 5,
   "id": "b525eae8-6718-48a4-ab71-0a24f8fad044",
   "metadata": {},
   "outputs": [
    {
     "data": {
      "text/plain": [
       "<tenseal.enc_context.SecretKey at 0x19a7f910370>"
      ]
     },
     "execution_count": 5,
     "metadata": {},
     "output_type": "execute_result"
    }
   ],
   "source": [
    "secret_key"
   ]
  },
  {
   "cell_type": "code",
   "execution_count": 6,
   "id": "1475e208-bc00-486b-920a-502f12f2facc",
   "metadata": {},
   "outputs": [
    {
     "name": "stdout",
     "output_type": "stream",
     "text": [
      "Is this context private: YES\n"
     ]
    }
   ],
   "source": [
    "print(\"Is this context private:\",\"YES\" if context.is_private() else \"No\")"
   ]
  },
  {
   "cell_type": "markdown",
   "id": "2e5df9ee-3d39-4992-abf9-45e02c0db9d0",
   "metadata": {},
   "source": [
    "#### Dropping the secret key possessed by context:"
   ]
  },
  {
   "cell_type": "code",
   "execution_count": 7,
   "id": "8482abe6-2ea1-43e1-a373-e2ec5f7dc0d8",
   "metadata": {},
   "outputs": [
    {
     "name": "stdout",
     "output_type": "stream",
     "text": [
      "Is this context private: No\n"
     ]
    }
   ],
   "source": [
    "context.make_context_public()\n",
    "print(\"Is this context private:\",\"YES\" if context.is_private() else \"No\")"
   ]
  },
  {
   "cell_type": "code",
   "execution_count": 8,
   "id": "61ec7244-6815-4157-8fe9-830c7e644b54",
   "metadata": {},
   "outputs": [
    {
     "data": {
      "text/plain": [
       "<tenseal.enc_context.Context at 0x19a634b4f40>"
      ]
     },
     "execution_count": 8,
     "metadata": {},
     "output_type": "execute_result"
    }
   ],
   "source": [
    "context"
   ]
  },
  {
   "cell_type": "markdown",
   "id": "beb3dbb1-f51f-4724-b969-383fd680437a",
   "metadata": {},
   "source": [
    "### Encrypting data using TenSEAL library:"
   ]
  },
  {
   "cell_type": "code",
   "execution_count": 9,
   "id": "2ea47b99-4761-4518-a54b-91a2d0ef36a2",
   "metadata": {},
   "outputs": [],
   "source": [
    "plain_data=[13,24,68,77,56]\n",
    "encrypted_data=ts.bfv_vector(context,plain_data)"
   ]
  },
  {
   "cell_type": "code",
   "execution_count": 10,
   "id": "0f6300d7-f9eb-4e8d-a1ec-b1788ad1b3e2",
   "metadata": {
    "scrolled": true
   },
   "outputs": [
    {
     "data": {
      "text/plain": [
       "5"
      ]
     },
     "execution_count": 10,
     "metadata": {},
     "output_type": "execute_result"
    }
   ],
   "source": [
    "encrypted_data.size()"
   ]
  },
  {
   "cell_type": "markdown",
   "id": "8698ba33-b91c-4fe1-bd30-1c70d65035c2",
   "metadata": {},
   "source": [
    "##### reveals number of elemnts that were encrypted in the vector"
   ]
  },
  {
   "cell_type": "markdown",
   "id": "d0a532b1-9d33-4a91-9d1b-82da07755052",
   "metadata": {},
   "source": [
    "#### Performing operations on encrypted data:"
   ]
  },
  {
   "cell_type": "code",
   "execution_count": 11,
   "id": "64dbc763-10cf-49f1-a789-918fab87d599",
   "metadata": {},
   "outputs": [],
   "source": [
    "encrypted_data*=10"
   ]
  },
  {
   "cell_type": "code",
   "execution_count": 12,
   "id": "42afba0e-8c02-45e3-b7d4-abedc6808b13",
   "metadata": {},
   "outputs": [],
   "source": [
    "encrypted_data+=[1,2,3,4,5]"
   ]
  },
  {
   "cell_type": "markdown",
   "id": "70199515-3e20-497e-924c-09a902e7ba2e",
   "metadata": {},
   "source": [
    "#### Decrypting data using the secret_key:"
   ]
  },
  {
   "cell_type": "code",
   "execution_count": 13,
   "id": "8c90e932-b742-403f-b650-9e9e4d839bf8",
   "metadata": {},
   "outputs": [
    {
     "data": {
      "text/plain": [
       "[131, 242, 683, 774, 565]"
      ]
     },
     "execution_count": 13,
     "metadata": {},
     "output_type": "execute_result"
    }
   ],
   "source": [
    "encrypted_data.decrypt(secret_key)"
   ]
  },
  {
   "cell_type": "markdown",
   "id": "5a935483-6608-4ec3-a5d5-28e9048d6cf0",
   "metadata": {},
   "source": [
    "#### Notes:\n",
    "\n",
    "Public is used to encrypt the data whereas the private key is used to decrypt the data"
   ]
  },
  {
   "cell_type": "code",
   "execution_count": null,
   "id": "ba68de81-6a2c-4db5-b382-3005847c1bfe",
   "metadata": {},
   "outputs": [],
   "source": []
  }
 ],
 "metadata": {
  "kernelspec": {
   "display_name": "Python 3 (ipykernel)",
   "language": "python",
   "name": "python3"
  },
  "language_info": {
   "codemirror_mode": {
    "name": "ipython",
    "version": 3
   },
   "file_extension": ".py",
   "mimetype": "text/x-python",
   "name": "python",
   "nbconvert_exporter": "python",
   "pygments_lexer": "ipython3",
   "version": "3.10.0"
  }
 },
 "nbformat": 4,
 "nbformat_minor": 5
}
