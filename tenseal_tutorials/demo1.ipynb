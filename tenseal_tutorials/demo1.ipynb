{
 "cells": [
  {
   "cell_type": "code",
   "execution_count": 1,
   "id": "d5d72cb5-7693-4b3d-aa75-0f39d8c54899",
   "metadata": {},
   "outputs": [],
   "source": [
    "import tenseal as ts"
   ]
  },
  {
   "cell_type": "code",
   "execution_count": 2,
   "id": "7c373e9f-f0ac-4f07-b532-4c79432a678a",
   "metadata": {},
   "outputs": [],
   "source": [
    "context = ts.context(\n",
    "            ts.SCHEME_TYPE.CKKS,\n",
    "            poly_modulus_degree=8192,\n",
    "            coeff_mod_bit_sizes=[60, 40, 40, 60]\n",
    "          )\n",
    "context.generate_galois_keys()\n",
    "context.global_scale = 2**40"
   ]
  },
  {
   "cell_type": "code",
   "execution_count": 3,
   "id": "06957a07-eb75-457d-8bf6-dd438c9c804b",
   "metadata": {},
   "outputs": [],
   "source": [
    "v1 = [0, 1, 2, 3, 4]\n",
    "v2 = [4, 3, 2, 1, 0]"
   ]
  },
  {
   "cell_type": "code",
   "execution_count": 4,
   "id": "1283abee-49c4-4d26-affe-07a8162c9ac5",
   "metadata": {},
   "outputs": [],
   "source": [
    "enc_v1 = ts.ckks_vector(context, v1)\n",
    "enc_v2 = ts.ckks_vector(context, v2)"
   ]
  },
  {
   "cell_type": "markdown",
   "id": "2be94564-e5c1-4cda-b17c-001ed4c998a1",
   "metadata": {},
   "source": [
    "#### addition using tenseal encryption:"
   ]
  },
  {
   "cell_type": "code",
   "execution_count": 5,
   "id": "ae80c2c6-673d-4900-ac51-c1c6862c0ba3",
   "metadata": {},
   "outputs": [
    {
     "data": {
      "text/plain": [
       "[3.999999998007911,\n",
       " 4.0000000004770815,\n",
       " 4.000000003917046,\n",
       " 3.9999999989427484,\n",
       " 3.999999995913608]"
      ]
     },
     "execution_count": 5,
     "metadata": {},
     "output_type": "execute_result"
    }
   ],
   "source": [
    "result = enc_v1 + enc_v2\n",
    "result.decrypt()"
   ]
  },
  {
   "cell_type": "markdown",
   "id": "598c3f33-8cc5-476e-ac07-f6614df6b8f2",
   "metadata": {},
   "source": [
    "#### dot product using tenseal encryption:"
   ]
  },
  {
   "cell_type": "code",
   "execution_count": 6,
   "id": "39e25205-0954-47e0-8ef2-f430c4a5c033",
   "metadata": {},
   "outputs": [
    {
     "data": {
      "text/plain": [
       "[10.000001332639844]"
      ]
     },
     "execution_count": 6,
     "metadata": {},
     "output_type": "execute_result"
    }
   ],
   "source": [
    "result = enc_v1.dot(enc_v2)\n",
    "result.decrypt() # ~ [10]"
   ]
  },
  {
   "cell_type": "markdown",
   "id": "e99631d1-d24e-492d-8a0c-4ba5ec3eb6ae",
   "metadata": {},
   "source": [
    "#### mattrix multiplication using tenseal encryption:"
   ]
  },
  {
   "cell_type": "code",
   "execution_count": 7,
   "id": "7be2fd1e-43a9-4ed9-a221-c1b6cb0e1f61",
   "metadata": {},
   "outputs": [],
   "source": [
    "matrix = [\n",
    "  [73, 0.5, 8],\n",
    "  [81, -5, 66],\n",
    "  [-100, -78, -2],\n",
    "  [0, 9, 17],\n",
    "  [69, 11 , 10],\n",
    "]"
   ]
  },
  {
   "cell_type": "code",
   "execution_count": 8,
   "id": "dc2b7e87-8ac5-43e2-9819-28fca9fbadf3",
   "metadata": {},
   "outputs": [
    {
     "data": {
      "text/plain": [
       "[157.00002069703416, -90.00001220074014, 153.00002059189825]"
      ]
     },
     "execution_count": 8,
     "metadata": {},
     "output_type": "execute_result"
    }
   ],
   "source": [
    "result = enc_v1.matmul(matrix)\n",
    "result.decrypt()"
   ]
  }
 ],
 "metadata": {
  "kernelspec": {
   "display_name": "Python 3 (ipykernel)",
   "language": "python",
   "name": "python3"
  },
  "language_info": {
   "codemirror_mode": {
    "name": "ipython",
    "version": 3
   },
   "file_extension": ".py",
   "mimetype": "text/x-python",
   "name": "python",
   "nbconvert_exporter": "python",
   "pygments_lexer": "ipython3",
   "version": "3.10.0"
  }
 },
 "nbformat": 4,
 "nbformat_minor": 5
}
