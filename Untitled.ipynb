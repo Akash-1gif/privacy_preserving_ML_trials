{
 "cells": [
  {
   "cell_type": "code",
   "execution_count": 1,
   "id": "7b8d9c99-2b1b-49d1-a1f5-feda8f4d847d",
   "metadata": {},
   "outputs": [],
   "source": [
    "import numpy as np \n",
    "import pandas as pd\n",
    "from sklearn.datasets import load_iris"
   ]
  },
  {
   "cell_type": "markdown",
   "id": "b0ca7d63-bc77-4d6b-acf9-bdaa81790251",
   "metadata": {},
   "source": [
    "### loading original dataset:"
   ]
  },
  {
   "cell_type": "code",
   "execution_count": 2,
   "id": "b334aa8d-d58b-4a66-8c06-942486a34fbb",
   "metadata": {},
   "outputs": [],
   "source": [
    "iris=load_iris()"
   ]
  },
  {
   "cell_type": "code",
   "execution_count": 3,
   "id": "fae81593-16ef-4104-9c1a-f62e1b643cde",
   "metadata": {},
   "outputs": [],
   "source": [
    "X=iris.data\n",
    "y=iris.target"
   ]
  },
  {
   "cell_type": "code",
   "execution_count": 4,
   "id": "e26ff6d5-74a9-4db1-a930-f9188804c57e",
   "metadata": {
    "scrolled": true
   },
   "outputs": [
    {
     "data": {
      "text/plain": [
       "(150, 4)"
      ]
     },
     "execution_count": 4,
     "metadata": {},
     "output_type": "execute_result"
    }
   ],
   "source": [
    "X.shape"
   ]
  },
  {
   "cell_type": "code",
   "execution_count": 5,
   "id": "7304edbd-6577-48d8-9632-84048fb53b34",
   "metadata": {},
   "outputs": [
    {
     "data": {
      "text/plain": [
       "(150,)"
      ]
     },
     "execution_count": 5,
     "metadata": {},
     "output_type": "execute_result"
    }
   ],
   "source": [
    "y.shape"
   ]
  },
  {
   "cell_type": "code",
   "execution_count": 6,
   "id": "fadc0ec7-1a54-459a-be44-69626012dd57",
   "metadata": {},
   "outputs": [
    {
     "data": {
      "text/plain": [
       "array([[5.1, 3.5, 1.4, 0.2],\n",
       "       [4.9, 3. , 1.4, 0.2],\n",
       "       [4.7, 3.2, 1.3, 0.2],\n",
       "       [4.6, 3.1, 1.5, 0.2],\n",
       "       [5. , 3.6, 1.4, 0.2],\n",
       "       [5.4, 3.9, 1.7, 0.4],\n",
       "       [4.6, 3.4, 1.4, 0.3],\n",
       "       [5. , 3.4, 1.5, 0.2],\n",
       "       [4.4, 2.9, 1.4, 0.2],\n",
       "       [4.9, 3.1, 1.5, 0.1],\n",
       "       [5.4, 3.7, 1.5, 0.2],\n",
       "       [4.8, 3.4, 1.6, 0.2],\n",
       "       [4.8, 3. , 1.4, 0.1],\n",
       "       [4.3, 3. , 1.1, 0.1],\n",
       "       [5.8, 4. , 1.2, 0.2],\n",
       "       [5.7, 4.4, 1.5, 0.4],\n",
       "       [5.4, 3.9, 1.3, 0.4],\n",
       "       [5.1, 3.5, 1.4, 0.3],\n",
       "       [5.7, 3.8, 1.7, 0.3],\n",
       "       [5.1, 3.8, 1.5, 0.3],\n",
       "       [5.4, 3.4, 1.7, 0.2],\n",
       "       [5.1, 3.7, 1.5, 0.4],\n",
       "       [4.6, 3.6, 1. , 0.2],\n",
       "       [5.1, 3.3, 1.7, 0.5],\n",
       "       [4.8, 3.4, 1.9, 0.2],\n",
       "       [5. , 3. , 1.6, 0.2],\n",
       "       [5. , 3.4, 1.6, 0.4],\n",
       "       [5.2, 3.5, 1.5, 0.2],\n",
       "       [5.2, 3.4, 1.4, 0.2],\n",
       "       [4.7, 3.2, 1.6, 0.2],\n",
       "       [4.8, 3.1, 1.6, 0.2],\n",
       "       [5.4, 3.4, 1.5, 0.4],\n",
       "       [5.2, 4.1, 1.5, 0.1],\n",
       "       [5.5, 4.2, 1.4, 0.2],\n",
       "       [4.9, 3.1, 1.5, 0.2],\n",
       "       [5. , 3.2, 1.2, 0.2],\n",
       "       [5.5, 3.5, 1.3, 0.2],\n",
       "       [4.9, 3.6, 1.4, 0.1],\n",
       "       [4.4, 3. , 1.3, 0.2],\n",
       "       [5.1, 3.4, 1.5, 0.2],\n",
       "       [5. , 3.5, 1.3, 0.3],\n",
       "       [4.5, 2.3, 1.3, 0.3],\n",
       "       [4.4, 3.2, 1.3, 0.2],\n",
       "       [5. , 3.5, 1.6, 0.6],\n",
       "       [5.1, 3.8, 1.9, 0.4],\n",
       "       [4.8, 3. , 1.4, 0.3],\n",
       "       [5.1, 3.8, 1.6, 0.2],\n",
       "       [4.6, 3.2, 1.4, 0.2],\n",
       "       [5.3, 3.7, 1.5, 0.2],\n",
       "       [5. , 3.3, 1.4, 0.2],\n",
       "       [7. , 3.2, 4.7, 1.4],\n",
       "       [6.4, 3.2, 4.5, 1.5],\n",
       "       [6.9, 3.1, 4.9, 1.5],\n",
       "       [5.5, 2.3, 4. , 1.3],\n",
       "       [6.5, 2.8, 4.6, 1.5],\n",
       "       [5.7, 2.8, 4.5, 1.3],\n",
       "       [6.3, 3.3, 4.7, 1.6],\n",
       "       [4.9, 2.4, 3.3, 1. ],\n",
       "       [6.6, 2.9, 4.6, 1.3],\n",
       "       [5.2, 2.7, 3.9, 1.4],\n",
       "       [5. , 2. , 3.5, 1. ],\n",
       "       [5.9, 3. , 4.2, 1.5],\n",
       "       [6. , 2.2, 4. , 1. ],\n",
       "       [6.1, 2.9, 4.7, 1.4],\n",
       "       [5.6, 2.9, 3.6, 1.3],\n",
       "       [6.7, 3.1, 4.4, 1.4],\n",
       "       [5.6, 3. , 4.5, 1.5],\n",
       "       [5.8, 2.7, 4.1, 1. ],\n",
       "       [6.2, 2.2, 4.5, 1.5],\n",
       "       [5.6, 2.5, 3.9, 1.1],\n",
       "       [5.9, 3.2, 4.8, 1.8],\n",
       "       [6.1, 2.8, 4. , 1.3],\n",
       "       [6.3, 2.5, 4.9, 1.5],\n",
       "       [6.1, 2.8, 4.7, 1.2],\n",
       "       [6.4, 2.9, 4.3, 1.3],\n",
       "       [6.6, 3. , 4.4, 1.4],\n",
       "       [6.8, 2.8, 4.8, 1.4],\n",
       "       [6.7, 3. , 5. , 1.7],\n",
       "       [6. , 2.9, 4.5, 1.5],\n",
       "       [5.7, 2.6, 3.5, 1. ],\n",
       "       [5.5, 2.4, 3.8, 1.1],\n",
       "       [5.5, 2.4, 3.7, 1. ],\n",
       "       [5.8, 2.7, 3.9, 1.2],\n",
       "       [6. , 2.7, 5.1, 1.6],\n",
       "       [5.4, 3. , 4.5, 1.5],\n",
       "       [6. , 3.4, 4.5, 1.6],\n",
       "       [6.7, 3.1, 4.7, 1.5],\n",
       "       [6.3, 2.3, 4.4, 1.3],\n",
       "       [5.6, 3. , 4.1, 1.3],\n",
       "       [5.5, 2.5, 4. , 1.3],\n",
       "       [5.5, 2.6, 4.4, 1.2],\n",
       "       [6.1, 3. , 4.6, 1.4],\n",
       "       [5.8, 2.6, 4. , 1.2],\n",
       "       [5. , 2.3, 3.3, 1. ],\n",
       "       [5.6, 2.7, 4.2, 1.3],\n",
       "       [5.7, 3. , 4.2, 1.2],\n",
       "       [5.7, 2.9, 4.2, 1.3],\n",
       "       [6.2, 2.9, 4.3, 1.3],\n",
       "       [5.1, 2.5, 3. , 1.1],\n",
       "       [5.7, 2.8, 4.1, 1.3],\n",
       "       [6.3, 3.3, 6. , 2.5],\n",
       "       [5.8, 2.7, 5.1, 1.9],\n",
       "       [7.1, 3. , 5.9, 2.1],\n",
       "       [6.3, 2.9, 5.6, 1.8],\n",
       "       [6.5, 3. , 5.8, 2.2],\n",
       "       [7.6, 3. , 6.6, 2.1],\n",
       "       [4.9, 2.5, 4.5, 1.7],\n",
       "       [7.3, 2.9, 6.3, 1.8],\n",
       "       [6.7, 2.5, 5.8, 1.8],\n",
       "       [7.2, 3.6, 6.1, 2.5],\n",
       "       [6.5, 3.2, 5.1, 2. ],\n",
       "       [6.4, 2.7, 5.3, 1.9],\n",
       "       [6.8, 3. , 5.5, 2.1],\n",
       "       [5.7, 2.5, 5. , 2. ],\n",
       "       [5.8, 2.8, 5.1, 2.4],\n",
       "       [6.4, 3.2, 5.3, 2.3],\n",
       "       [6.5, 3. , 5.5, 1.8],\n",
       "       [7.7, 3.8, 6.7, 2.2],\n",
       "       [7.7, 2.6, 6.9, 2.3],\n",
       "       [6. , 2.2, 5. , 1.5],\n",
       "       [6.9, 3.2, 5.7, 2.3],\n",
       "       [5.6, 2.8, 4.9, 2. ],\n",
       "       [7.7, 2.8, 6.7, 2. ],\n",
       "       [6.3, 2.7, 4.9, 1.8],\n",
       "       [6.7, 3.3, 5.7, 2.1],\n",
       "       [7.2, 3.2, 6. , 1.8],\n",
       "       [6.2, 2.8, 4.8, 1.8],\n",
       "       [6.1, 3. , 4.9, 1.8],\n",
       "       [6.4, 2.8, 5.6, 2.1],\n",
       "       [7.2, 3. , 5.8, 1.6],\n",
       "       [7.4, 2.8, 6.1, 1.9],\n",
       "       [7.9, 3.8, 6.4, 2. ],\n",
       "       [6.4, 2.8, 5.6, 2.2],\n",
       "       [6.3, 2.8, 5.1, 1.5],\n",
       "       [6.1, 2.6, 5.6, 1.4],\n",
       "       [7.7, 3. , 6.1, 2.3],\n",
       "       [6.3, 3.4, 5.6, 2.4],\n",
       "       [6.4, 3.1, 5.5, 1.8],\n",
       "       [6. , 3. , 4.8, 1.8],\n",
       "       [6.9, 3.1, 5.4, 2.1],\n",
       "       [6.7, 3.1, 5.6, 2.4],\n",
       "       [6.9, 3.1, 5.1, 2.3],\n",
       "       [5.8, 2.7, 5.1, 1.9],\n",
       "       [6.8, 3.2, 5.9, 2.3],\n",
       "       [6.7, 3.3, 5.7, 2.5],\n",
       "       [6.7, 3. , 5.2, 2.3],\n",
       "       [6.3, 2.5, 5. , 1.9],\n",
       "       [6.5, 3. , 5.2, 2. ],\n",
       "       [6.2, 3.4, 5.4, 2.3],\n",
       "       [5.9, 3. , 5.1, 1.8]])"
      ]
     },
     "execution_count": 6,
     "metadata": {},
     "output_type": "execute_result"
    }
   ],
   "source": [
    "X"
   ]
  },
  {
   "cell_type": "code",
   "execution_count": 7,
   "id": "e242a7bb-1661-42fa-b828-e44ddc72146b",
   "metadata": {},
   "outputs": [
    {
     "data": {
      "text/plain": [
       "array([0, 0, 0, 0, 0, 0, 0, 0, 0, 0, 0, 0, 0, 0, 0, 0, 0, 0, 0, 0, 0, 0,\n",
       "       0, 0, 0, 0, 0, 0, 0, 0, 0, 0, 0, 0, 0, 0, 0, 0, 0, 0, 0, 0, 0, 0,\n",
       "       0, 0, 0, 0, 0, 0, 1, 1, 1, 1, 1, 1, 1, 1, 1, 1, 1, 1, 1, 1, 1, 1,\n",
       "       1, 1, 1, 1, 1, 1, 1, 1, 1, 1, 1, 1, 1, 1, 1, 1, 1, 1, 1, 1, 1, 1,\n",
       "       1, 1, 1, 1, 1, 1, 1, 1, 1, 1, 1, 1, 2, 2, 2, 2, 2, 2, 2, 2, 2, 2,\n",
       "       2, 2, 2, 2, 2, 2, 2, 2, 2, 2, 2, 2, 2, 2, 2, 2, 2, 2, 2, 2, 2, 2,\n",
       "       2, 2, 2, 2, 2, 2, 2, 2, 2, 2, 2, 2, 2, 2, 2, 2, 2, 2])"
      ]
     },
     "execution_count": 7,
     "metadata": {},
     "output_type": "execute_result"
    }
   ],
   "source": [
    "y"
   ]
  },
  {
   "cell_type": "markdown",
   "id": "5f6820dc-2388-452b-9b60-615ffe9267b2",
   "metadata": {},
   "source": [
    "### encrypting the data (X and y using tenseal):"
   ]
  },
  {
   "cell_type": "markdown",
   "id": "f07ce7e4-a4b8-4371-9469-1446bfc97b9a",
   "metadata": {},
   "source": [
    "#### importing tenseal (for CKKS encryption):"
   ]
  },
  {
   "cell_type": "code",
   "execution_count": 8,
   "id": "33f593e8-4f13-407a-b790-924c815cb9f2",
   "metadata": {},
   "outputs": [],
   "source": [
    "import tenseal as ts\n",
    "import utils"
   ]
  },
  {
   "cell_type": "markdown",
   "id": "d93211fd-bac1-4938-8ece-af63f176dcc6",
   "metadata": {},
   "source": [
    "#### generating keys:"
   ]
  },
  {
   "cell_type": "code",
   "execution_count": 9,
   "id": "e7107b92-808d-4000-96cf-87553d2dade6",
   "metadata": {},
   "outputs": [],
   "source": [
    "context=ts.context(\n",
    "    ts.SCHEME_TYPE.CKKS,\n",
    "    poly_modulus_degree=8192,\n",
    "    coeff_mod_bit_sizes=[60,40,40,60]\n",
    ")"
   ]
  },
  {
   "cell_type": "code",
   "execution_count": 10,
   "id": "b9bde621-4344-4c8d-aed8-ea6e424be97d",
   "metadata": {},
   "outputs": [],
   "source": [
    "context.generate_galois_keys()\n",
    "context.global_scale=2**40"
   ]
  },
  {
   "cell_type": "markdown",
   "id": "21745c1c-71f7-499c-b7b8-b0df394de3ad",
   "metadata": {},
   "source": [
    "#### Storing Private key:"
   ]
  },
  {
   "cell_type": "code",
   "execution_count": 11,
   "id": "05168fa4-4967-4649-a9ce-7c67997f60d7",
   "metadata": {},
   "outputs": [],
   "source": [
    "secret_context=context.serialize(save_secret_key=True)\n",
    "utils.write_data('keys1/secret.txt',secret_context)"
   ]
  },
  {
   "cell_type": "markdown",
   "id": "5b0efa5c-db98-42ea-bc18-18822328c76c",
   "metadata": {},
   "source": [
    "#### Storing Public key:"
   ]
  },
  {
   "cell_type": "code",
   "execution_count": 12,
   "id": "89f24324-5182-4499-a8bc-346d24bcec10",
   "metadata": {},
   "outputs": [],
   "source": [
    "context.make_context_public()\n",
    "public_context=context.serialize()\n",
    "utils.write_data('keys1/public.txt',public_context)"
   ]
  },
  {
   "cell_type": "markdown",
   "id": "80cafada-936a-43b0-b288-482cf0e3b869",
   "metadata": {},
   "source": [
    "### Encrypting X and y:"
   ]
  },
  {
   "cell_type": "code",
   "execution_count": 13,
   "id": "88a04a02-202a-4672-953a-fcfc87b5588e",
   "metadata": {},
   "outputs": [
    {
     "data": {
      "text/plain": [
       "numpy.ndarray"
      ]
     },
     "execution_count": 13,
     "metadata": {},
     "output_type": "execute_result"
    }
   ],
   "source": [
    "type(X)"
   ]
  },
  {
   "cell_type": "code",
   "execution_count": 14,
   "id": "926fdc38-57df-46af-843b-0497a66c2589",
   "metadata": {},
   "outputs": [
    {
     "data": {
      "text/plain": [
       "numpy.ndarray"
      ]
     },
     "execution_count": 14,
     "metadata": {},
     "output_type": "execute_result"
    }
   ],
   "source": [
    "type(y)"
   ]
  },
  {
   "cell_type": "markdown",
   "id": "af735b34-f7a3-489b-9ccf-5f0091116d9b",
   "metadata": {},
   "source": [
    "#### a demo test:"
   ]
  },
  {
   "cell_type": "markdown",
   "id": "9a8cad08-3087-4d17-85ac-4029b232826b",
   "metadata": {},
   "source": [
    "##### encrypting salary variable with a secret key:"
   ]
  },
  {
   "cell_type": "code",
   "execution_count": 15,
   "id": "fb4844a4-da1d-421c-929c-9521398b7e32",
   "metadata": {},
   "outputs": [],
   "source": [
    "import tenseal as ts\n",
    "import utils\n",
    "context=ts.context_from(utils.read_data('keys1/secret.txt'))\n",
    "salary=[1000,2000,3000]\n",
    "salary_encrypted=ts.ckks_vector(context,salary)\n",
    "utils.write_data('demo_encrypted_objects/salary_encrypted.txt',salary_encrypted.serialize())"
   ]
  },
  {
   "cell_type": "markdown",
   "id": "d6821b51-a7ee-4cf8-becb-efc10caf0676",
   "metadata": {},
   "source": [
    "#### Encrypting X and y:"
   ]
  },
  {
   "cell_type": "code",
   "execution_count": 16,
   "id": "863b7518-e825-43b6-832e-24a1b613f177",
   "metadata": {},
   "outputs": [],
   "source": [
    "from sklearn.model_selection import train_test_split"
   ]
  },
  {
   "cell_type": "code",
   "execution_count": 17,
   "id": "bdc56115-f428-4d43-8d5b-add9cca40611",
   "metadata": {},
   "outputs": [
    {
     "data": {
      "text/plain": [
       "(105, 45, 105, 45)"
      ]
     },
     "execution_count": 17,
     "metadata": {},
     "output_type": "execute_result"
    }
   ],
   "source": [
    "X_train,X_test,y_train,y_test=train_test_split(X,y,test_size=0.3,stratify=y)\n",
    "len(X_train),len(X_test),len(y_train),len(y_test)"
   ]
  },
  {
   "cell_type": "code",
   "execution_count": 18,
   "id": "eb44e7e1-c7f5-4e86-9fa3-ef89df217b1e",
   "metadata": {},
   "outputs": [
    {
     "name": "stdout",
     "output_type": "stream",
     "text": [
      "Encryption of the training_set took 0 seconds\n"
     ]
    }
   ],
   "source": [
    "from time import time\n",
    "t_start=time()\n",
    "enc_x_train=[ts.ckks_vector(context,x.tolist()) for x in X_train]\n",
    "enc_y_train=ts.ckks_vector(context,y_train.tolist())\n",
    "t_end=time()\n",
    "print(f\"Encryption of the training_set took {int(t_end - t_start)} seconds\")"
   ]
  },
  {
   "cell_type": "code",
   "execution_count": 19,
   "id": "ad7e9cf7-cce3-43d9-9ddc-cec6152f0519",
   "metadata": {},
   "outputs": [
    {
     "name": "stdout",
     "output_type": "stream",
     "text": [
      "Encryption of the testing_set took 0 seconds\n"
     ]
    }
   ],
   "source": [
    "t_start=time()\n",
    "enc_x_test=[ts.ckks_vector(context,x.tolist()) for x in X_test]\n",
    "enc_y_test=ts.ckks_vector(context,y_test.tolist())\n",
    "t_end=time()\n",
    "print(f\"Encryption of the testing_set took {int(t_end-t_start)} seconds\")"
   ]
  },
  {
   "cell_type": "code",
   "execution_count": 20,
   "id": "413a803e-db73-4cd3-8a1f-990522f00997",
   "metadata": {},
   "outputs": [
    {
     "data": {
      "text/plain": [
       "list"
      ]
     },
     "execution_count": 20,
     "metadata": {},
     "output_type": "execute_result"
    }
   ],
   "source": [
    "type(enc_x_train)"
   ]
  },
  {
   "cell_type": "code",
   "execution_count": 21,
   "id": "674be544-8941-4bc4-b3b4-9bf1a961992c",
   "metadata": {},
   "outputs": [
    {
     "data": {
      "text/plain": [
       "<tenseal.tensors.ckksvector.CKKSVector at 0x183ec06a410>"
      ]
     },
     "execution_count": 21,
     "metadata": {},
     "output_type": "execute_result"
    }
   ],
   "source": [
    "enc_x_train[0]"
   ]
  },
  {
   "cell_type": "markdown",
   "id": "8cac51f3-7213-40f4-b137-20cf937fff07",
   "metadata": {},
   "source": [
    "#### storing the ckks encrypted variables into json files\n"
   ]
  },
  {
   "cell_type": "code",
   "execution_count": 22,
   "id": "fe6292c9-aa9d-4fbd-8288-98db35f18d58",
   "metadata": {},
   "outputs": [],
   "source": [
    "# import json"
   ]
  },
  {
   "cell_type": "code",
   "execution_count": 23,
   "id": "550ce760-454e-45e8-a76b-653574ceb488",
   "metadata": {},
   "outputs": [],
   "source": [
    "# with open('encrypted_data_variables/enc_x_train.json','w') as f:\n",
    "#     json.dump(enc_x_train,f)"
   ]
  },
  {
   "cell_type": "code",
   "execution_count": 24,
   "id": "f97405bd-4077-44b5-8acd-d19bc241234f",
   "metadata": {},
   "outputs": [],
   "source": [
    "# with open('encrypted_data_variables/enc_x_train.txt','w') as f:\n",
    "#     f.write(enc_x_train)"
   ]
  },
  {
   "cell_type": "code",
   "execution_count": 25,
   "id": "601826af-65ea-4fd6-9619-e4a5cf540cc5",
   "metadata": {},
   "outputs": [],
   "source": [
    "enc_1=enc_x_train[0]\n",
    "enc_2=enc_x_train[1]"
   ]
  },
  {
   "cell_type": "code",
   "execution_count": 29,
   "id": "1655d8d6-8831-4cbb-a768-553cae50c4f3",
   "metadata": {},
   "outputs": [
    {
     "data": {
      "text/plain": [
       "<tenseal.tensors.ckksvector.CKKSVector at 0x183ec06a410>"
      ]
     },
     "execution_count": 29,
     "metadata": {},
     "output_type": "execute_result"
    }
   ],
   "source": [
    "enc_1"
   ]
  },
  {
   "cell_type": "code",
   "execution_count": 30,
   "id": "564a325e-9dbe-4fd4-a518-2488b29a9217",
   "metadata": {},
   "outputs": [
    {
     "name": "stdout",
     "output_type": "stream",
     "text": [
      "<tenseal.tensors.ckksvector.CKKSVector object at 0x00000183EC06A410>\n"
     ]
    }
   ],
   "source": [
    "print(enc_1)"
   ]
  },
  {
   "cell_type": "code",
   "execution_count": 33,
   "id": "f96a0a88-50aa-4c1a-9ba2-1fff43783dcc",
   "metadata": {},
   "outputs": [],
   "source": [
    "enc_1=enc_1.serialize()\n",
    "utils.write_data('x/enc_1.txt',enc_1)"
   ]
  },
  {
   "cell_type": "code",
   "execution_count": 34,
   "id": "74f32d50-ef9c-4ae5-b15b-5f593c4028cc",
   "metadata": {},
   "outputs": [],
   "source": [
    "enc_2=enc_2.serialize()\n",
    "utils.write_data('x/enc_2.txt',enc_2)"
   ]
  },
  {
   "cell_type": "code",
   "execution_count": null,
   "id": "cd68b279-e469-4e98-9912-96b314180ed1",
   "metadata": {},
   "outputs": [],
   "source": []
  }
 ],
 "metadata": {
  "kernelspec": {
   "display_name": "Python 3 (ipykernel)",
   "language": "python",
   "name": "python3"
  },
  "language_info": {
   "codemirror_mode": {
    "name": "ipython",
    "version": 3
   },
   "file_extension": ".py",
   "mimetype": "text/x-python",
   "name": "python",
   "nbconvert_exporter": "python",
   "pygments_lexer": "ipython3",
   "version": "3.10.0"
  }
 },
 "nbformat": 4,
 "nbformat_minor": 5
}
