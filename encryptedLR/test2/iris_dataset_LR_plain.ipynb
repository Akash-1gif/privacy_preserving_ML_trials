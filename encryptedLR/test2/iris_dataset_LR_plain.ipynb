{
 "cells": [
  {
   "cell_type": "markdown",
   "id": "fe88bd42-9220-4f78-a53f-f3a5442ddcc4",
   "metadata": {},
   "source": [
    "### importing libraries:"
   ]
  },
  {
   "cell_type": "code",
   "execution_count": 1,
   "id": "961a33a5-9e93-405f-9203-8abdcce986f7",
   "metadata": {},
   "outputs": [],
   "source": [
    "import numpy as np\n",
    "import tenseal as ts\n",
    "import torch\n",
    "from time import time\n",
    "import pandas as pd\n",
    "from sklearn.model_selection import train_test_split\n",
    "from sklearn.datasets import load_iris"
   ]
  },
  {
   "cell_type": "markdown",
   "id": "eb070b70-65f3-4740-8f31-969b31b25087",
   "metadata": {},
   "source": [
    "### Loading the dataset:"
   ]
  },
  {
   "cell_type": "code",
   "execution_count": 2,
   "id": "54267f9d-ba6a-4ecf-9a93-cf944c0bcfde",
   "metadata": {},
   "outputs": [
    {
     "data": {
      "text/html": [
       "<div>\n",
       "<style scoped>\n",
       "    .dataframe tbody tr th:only-of-type {\n",
       "        vertical-align: middle;\n",
       "    }\n",
       "\n",
       "    .dataframe tbody tr th {\n",
       "        vertical-align: top;\n",
       "    }\n",
       "\n",
       "    .dataframe thead th {\n",
       "        text-align: right;\n",
       "    }\n",
       "</style>\n",
       "<table border=\"1\" class=\"dataframe\">\n",
       "  <thead>\n",
       "    <tr style=\"text-align: right;\">\n",
       "      <th></th>\n",
       "      <th>sepal length (cm)</th>\n",
       "      <th>sepal width (cm)</th>\n",
       "      <th>petal length (cm)</th>\n",
       "      <th>petal width (cm)</th>\n",
       "      <th>target</th>\n",
       "    </tr>\n",
       "  </thead>\n",
       "  <tbody>\n",
       "    <tr>\n",
       "      <th>0</th>\n",
       "      <td>5.1</td>\n",
       "      <td>3.5</td>\n",
       "      <td>1.4</td>\n",
       "      <td>0.2</td>\n",
       "      <td>0</td>\n",
       "    </tr>\n",
       "    <tr>\n",
       "      <th>1</th>\n",
       "      <td>4.9</td>\n",
       "      <td>3.0</td>\n",
       "      <td>1.4</td>\n",
       "      <td>0.2</td>\n",
       "      <td>0</td>\n",
       "    </tr>\n",
       "    <tr>\n",
       "      <th>2</th>\n",
       "      <td>4.7</td>\n",
       "      <td>3.2</td>\n",
       "      <td>1.3</td>\n",
       "      <td>0.2</td>\n",
       "      <td>0</td>\n",
       "    </tr>\n",
       "    <tr>\n",
       "      <th>3</th>\n",
       "      <td>4.6</td>\n",
       "      <td>3.1</td>\n",
       "      <td>1.5</td>\n",
       "      <td>0.2</td>\n",
       "      <td>0</td>\n",
       "    </tr>\n",
       "    <tr>\n",
       "      <th>4</th>\n",
       "      <td>5.0</td>\n",
       "      <td>3.6</td>\n",
       "      <td>1.4</td>\n",
       "      <td>0.2</td>\n",
       "      <td>0</td>\n",
       "    </tr>\n",
       "    <tr>\n",
       "      <th>5</th>\n",
       "      <td>5.4</td>\n",
       "      <td>3.9</td>\n",
       "      <td>1.7</td>\n",
       "      <td>0.4</td>\n",
       "      <td>0</td>\n",
       "    </tr>\n",
       "    <tr>\n",
       "      <th>6</th>\n",
       "      <td>4.6</td>\n",
       "      <td>3.4</td>\n",
       "      <td>1.4</td>\n",
       "      <td>0.3</td>\n",
       "      <td>0</td>\n",
       "    </tr>\n",
       "    <tr>\n",
       "      <th>7</th>\n",
       "      <td>5.0</td>\n",
       "      <td>3.4</td>\n",
       "      <td>1.5</td>\n",
       "      <td>0.2</td>\n",
       "      <td>0</td>\n",
       "    </tr>\n",
       "    <tr>\n",
       "      <th>8</th>\n",
       "      <td>4.4</td>\n",
       "      <td>2.9</td>\n",
       "      <td>1.4</td>\n",
       "      <td>0.2</td>\n",
       "      <td>0</td>\n",
       "    </tr>\n",
       "    <tr>\n",
       "      <th>9</th>\n",
       "      <td>4.9</td>\n",
       "      <td>3.1</td>\n",
       "      <td>1.5</td>\n",
       "      <td>0.1</td>\n",
       "      <td>0</td>\n",
       "    </tr>\n",
       "  </tbody>\n",
       "</table>\n",
       "</div>"
      ],
      "text/plain": [
       "   sepal length (cm)  sepal width (cm)  petal length (cm)  petal width (cm)  \\\n",
       "0                5.1               3.5                1.4               0.2   \n",
       "1                4.9               3.0                1.4               0.2   \n",
       "2                4.7               3.2                1.3               0.2   \n",
       "3                4.6               3.1                1.5               0.2   \n",
       "4                5.0               3.6                1.4               0.2   \n",
       "5                5.4               3.9                1.7               0.4   \n",
       "6                4.6               3.4                1.4               0.3   \n",
       "7                5.0               3.4                1.5               0.2   \n",
       "8                4.4               2.9                1.4               0.2   \n",
       "9                4.9               3.1                1.5               0.1   \n",
       "\n",
       "   target  \n",
       "0       0  \n",
       "1       0  \n",
       "2       0  \n",
       "3       0  \n",
       "4       0  \n",
       "5       0  \n",
       "6       0  \n",
       "7       0  \n",
       "8       0  \n",
       "9       0  "
      ]
     },
     "execution_count": 2,
     "metadata": {},
     "output_type": "execute_result"
    }
   ],
   "source": [
    "iris=load_iris()\n",
    "data=pd.DataFrame(data=iris.data,columns=iris.feature_names)\n",
    "data['target']=iris.target\n",
    "data.head(10)"
   ]
  },
  {
   "cell_type": "code",
   "execution_count": 3,
   "id": "1ff929dd-6636-4bd9-a9f4-585375374661",
   "metadata": {},
   "outputs": [],
   "source": [
    "data=data[data['target']!=2]\n",
    "# data=data[data['target']!=2]"
   ]
  },
  {
   "cell_type": "markdown",
   "id": "18af3c36-7632-4371-8dfa-e4aa43191512",
   "metadata": {},
   "source": [
    "### Cleaning the dataset:"
   ]
  },
  {
   "cell_type": "code",
   "execution_count": 4,
   "id": "bf0c698a-078f-4484-b544-81082536d3e4",
   "metadata": {},
   "outputs": [
    {
     "data": {
      "text/plain": [
       "(100, 5)"
      ]
     },
     "execution_count": 4,
     "metadata": {},
     "output_type": "execute_result"
    }
   ],
   "source": [
    "data.shape"
   ]
  },
  {
   "cell_type": "markdown",
   "id": "1b7a68ad-7f12-4b15-a597-73da3d0a7ae9",
   "metadata": {},
   "source": [
    "##### removing rows with missing values:"
   ]
  },
  {
   "cell_type": "code",
   "execution_count": 5,
   "id": "a6b3157d-aa64-4d5f-8086-4d1c0dbf2350",
   "metadata": {},
   "outputs": [
    {
     "data": {
      "text/plain": [
       "(100, 5)"
      ]
     },
     "execution_count": 5,
     "metadata": {},
     "output_type": "execute_result"
    }
   ],
   "source": [
    "data=data.dropna()\n",
    "data.shape"
   ]
  },
  {
   "cell_type": "markdown",
   "id": "b9183e30-2a8f-43ae-92e4-3400774a654a",
   "metadata": {},
   "source": [
    "##### balancing the data:"
   ]
  },
  {
   "cell_type": "code",
   "execution_count": 6,
   "id": "bde425a7-f2a7-45c7-b71d-e31bbcc9b2ce",
   "metadata": {},
   "outputs": [
    {
     "data": {
      "text/html": [
       "<div>\n",
       "<style scoped>\n",
       "    .dataframe tbody tr th:only-of-type {\n",
       "        vertical-align: middle;\n",
       "    }\n",
       "\n",
       "    .dataframe tbody tr th {\n",
       "        vertical-align: top;\n",
       "    }\n",
       "\n",
       "    .dataframe thead th {\n",
       "        text-align: right;\n",
       "    }\n",
       "</style>\n",
       "<table border=\"1\" class=\"dataframe\">\n",
       "  <thead>\n",
       "    <tr style=\"text-align: right;\">\n",
       "      <th></th>\n",
       "      <th>sepal length (cm)</th>\n",
       "      <th>sepal width (cm)</th>\n",
       "      <th>petal length (cm)</th>\n",
       "      <th>petal width (cm)</th>\n",
       "      <th>target</th>\n",
       "    </tr>\n",
       "  </thead>\n",
       "  <tbody>\n",
       "    <tr>\n",
       "      <th>0</th>\n",
       "      <td>5.1</td>\n",
       "      <td>3.5</td>\n",
       "      <td>1.4</td>\n",
       "      <td>0.2</td>\n",
       "      <td>0</td>\n",
       "    </tr>\n",
       "    <tr>\n",
       "      <th>1</th>\n",
       "      <td>4.9</td>\n",
       "      <td>3.0</td>\n",
       "      <td>1.4</td>\n",
       "      <td>0.2</td>\n",
       "      <td>0</td>\n",
       "    </tr>\n",
       "    <tr>\n",
       "      <th>2</th>\n",
       "      <td>4.7</td>\n",
       "      <td>3.2</td>\n",
       "      <td>1.3</td>\n",
       "      <td>0.2</td>\n",
       "      <td>0</td>\n",
       "    </tr>\n",
       "    <tr>\n",
       "      <th>3</th>\n",
       "      <td>4.6</td>\n",
       "      <td>3.1</td>\n",
       "      <td>1.5</td>\n",
       "      <td>0.2</td>\n",
       "      <td>0</td>\n",
       "    </tr>\n",
       "    <tr>\n",
       "      <th>4</th>\n",
       "      <td>5.0</td>\n",
       "      <td>3.6</td>\n",
       "      <td>1.4</td>\n",
       "      <td>0.2</td>\n",
       "      <td>0</td>\n",
       "    </tr>\n",
       "    <tr>\n",
       "      <th>50</th>\n",
       "      <td>7.0</td>\n",
       "      <td>3.2</td>\n",
       "      <td>4.7</td>\n",
       "      <td>1.4</td>\n",
       "      <td>1</td>\n",
       "    </tr>\n",
       "    <tr>\n",
       "      <th>51</th>\n",
       "      <td>6.4</td>\n",
       "      <td>3.2</td>\n",
       "      <td>4.5</td>\n",
       "      <td>1.5</td>\n",
       "      <td>1</td>\n",
       "    </tr>\n",
       "    <tr>\n",
       "      <th>52</th>\n",
       "      <td>6.9</td>\n",
       "      <td>3.1</td>\n",
       "      <td>4.9</td>\n",
       "      <td>1.5</td>\n",
       "      <td>1</td>\n",
       "    </tr>\n",
       "    <tr>\n",
       "      <th>53</th>\n",
       "      <td>5.5</td>\n",
       "      <td>2.3</td>\n",
       "      <td>4.0</td>\n",
       "      <td>1.3</td>\n",
       "      <td>1</td>\n",
       "    </tr>\n",
       "    <tr>\n",
       "      <th>54</th>\n",
       "      <td>6.5</td>\n",
       "      <td>2.8</td>\n",
       "      <td>4.6</td>\n",
       "      <td>1.5</td>\n",
       "      <td>1</td>\n",
       "    </tr>\n",
       "  </tbody>\n",
       "</table>\n",
       "</div>"
      ],
      "text/plain": [
       "    sepal length (cm)  sepal width (cm)  petal length (cm)  petal width (cm)  \\\n",
       "0                 5.1               3.5                1.4               0.2   \n",
       "1                 4.9               3.0                1.4               0.2   \n",
       "2                 4.7               3.2                1.3               0.2   \n",
       "3                 4.6               3.1                1.5               0.2   \n",
       "4                 5.0               3.6                1.4               0.2   \n",
       "50                7.0               3.2                4.7               1.4   \n",
       "51                6.4               3.2                4.5               1.5   \n",
       "52                6.9               3.1                4.9               1.5   \n",
       "53                5.5               2.3                4.0               1.3   \n",
       "54                6.5               2.8                4.6               1.5   \n",
       "\n",
       "    target  \n",
       "0        0  \n",
       "1        0  \n",
       "2        0  \n",
       "3        0  \n",
       "4        0  \n",
       "50       1  \n",
       "51       1  \n",
       "52       1  \n",
       "53       1  \n",
       "54       1  "
      ]
     },
     "execution_count": 6,
     "metadata": {},
     "output_type": "execute_result"
    }
   ],
   "source": [
    "grouped=data.groupby('target')\n",
    "grouped.head()"
   ]
  },
  {
   "cell_type": "code",
   "execution_count": 7,
   "id": "53c914ef-3b30-47ff-97fd-ab045187c62f",
   "metadata": {},
   "outputs": [
    {
     "data": {
      "text/html": [
       "<div>\n",
       "<style scoped>\n",
       "    .dataframe tbody tr th:only-of-type {\n",
       "        vertical-align: middle;\n",
       "    }\n",
       "\n",
       "    .dataframe tbody tr th {\n",
       "        vertical-align: top;\n",
       "    }\n",
       "\n",
       "    .dataframe thead th {\n",
       "        text-align: right;\n",
       "    }\n",
       "</style>\n",
       "<table border=\"1\" class=\"dataframe\">\n",
       "  <thead>\n",
       "    <tr style=\"text-align: right;\">\n",
       "      <th></th>\n",
       "      <th></th>\n",
       "      <th>sepal length (cm)</th>\n",
       "      <th>sepal width (cm)</th>\n",
       "      <th>petal length (cm)</th>\n",
       "      <th>petal width (cm)</th>\n",
       "      <th>target</th>\n",
       "    </tr>\n",
       "    <tr>\n",
       "      <th>target</th>\n",
       "      <th></th>\n",
       "      <th></th>\n",
       "      <th></th>\n",
       "      <th></th>\n",
       "      <th></th>\n",
       "      <th></th>\n",
       "    </tr>\n",
       "  </thead>\n",
       "  <tbody>\n",
       "    <tr>\n",
       "      <th rowspan=\"5\" valign=\"top\">0</th>\n",
       "      <th>0</th>\n",
       "      <td>5.2</td>\n",
       "      <td>3.4</td>\n",
       "      <td>1.4</td>\n",
       "      <td>0.2</td>\n",
       "      <td>0</td>\n",
       "    </tr>\n",
       "    <tr>\n",
       "      <th>1</th>\n",
       "      <td>5.4</td>\n",
       "      <td>3.4</td>\n",
       "      <td>1.7</td>\n",
       "      <td>0.2</td>\n",
       "      <td>0</td>\n",
       "    </tr>\n",
       "    <tr>\n",
       "      <th>2</th>\n",
       "      <td>5.0</td>\n",
       "      <td>3.3</td>\n",
       "      <td>1.4</td>\n",
       "      <td>0.2</td>\n",
       "      <td>0</td>\n",
       "    </tr>\n",
       "    <tr>\n",
       "      <th>3</th>\n",
       "      <td>4.9</td>\n",
       "      <td>3.1</td>\n",
       "      <td>1.5</td>\n",
       "      <td>0.2</td>\n",
       "      <td>0</td>\n",
       "    </tr>\n",
       "    <tr>\n",
       "      <th>4</th>\n",
       "      <td>5.2</td>\n",
       "      <td>4.1</td>\n",
       "      <td>1.5</td>\n",
       "      <td>0.1</td>\n",
       "      <td>0</td>\n",
       "    </tr>\n",
       "  </tbody>\n",
       "</table>\n",
       "</div>"
      ],
      "text/plain": [
       "          sepal length (cm)  sepal width (cm)  petal length (cm)  \\\n",
       "target                                                             \n",
       "0      0                5.2               3.4                1.4   \n",
       "       1                5.4               3.4                1.7   \n",
       "       2                5.0               3.3                1.4   \n",
       "       3                4.9               3.1                1.5   \n",
       "       4                5.2               4.1                1.5   \n",
       "\n",
       "          petal width (cm)  target  \n",
       "target                              \n",
       "0      0               0.2       0  \n",
       "       1               0.2       0  \n",
       "       2               0.2       0  \n",
       "       3               0.2       0  \n",
       "       4               0.1       0  "
      ]
     },
     "execution_count": 7,
     "metadata": {},
     "output_type": "execute_result"
    }
   ],
   "source": [
    "data=grouped.apply(lambda x: x.sample(grouped.size().min(),random_state=73).reset_index(drop=True))\n",
    "data.head()"
   ]
  },
  {
   "cell_type": "code",
   "execution_count": 8,
   "id": "a96bd9ff-6806-417d-a69c-0f768ab752fc",
   "metadata": {},
   "outputs": [
    {
     "data": {
      "text/html": [
       "<div>\n",
       "<style scoped>\n",
       "    .dataframe tbody tr th:only-of-type {\n",
       "        vertical-align: middle;\n",
       "    }\n",
       "\n",
       "    .dataframe tbody tr th {\n",
       "        vertical-align: top;\n",
       "    }\n",
       "\n",
       "    .dataframe thead th {\n",
       "        text-align: right;\n",
       "    }\n",
       "</style>\n",
       "<table border=\"1\" class=\"dataframe\">\n",
       "  <thead>\n",
       "    <tr style=\"text-align: right;\">\n",
       "      <th></th>\n",
       "      <th></th>\n",
       "      <th>sepal length (cm)</th>\n",
       "      <th>sepal width (cm)</th>\n",
       "      <th>petal length (cm)</th>\n",
       "      <th>petal width (cm)</th>\n",
       "      <th>target</th>\n",
       "    </tr>\n",
       "    <tr>\n",
       "      <th>target</th>\n",
       "      <th></th>\n",
       "      <th></th>\n",
       "      <th></th>\n",
       "      <th></th>\n",
       "      <th></th>\n",
       "      <th></th>\n",
       "    </tr>\n",
       "  </thead>\n",
       "  <tbody>\n",
       "    <tr>\n",
       "      <th rowspan=\"5\" valign=\"top\">0</th>\n",
       "      <th>0</th>\n",
       "      <td>5.2</td>\n",
       "      <td>3.4</td>\n",
       "      <td>1.4</td>\n",
       "      <td>0.2</td>\n",
       "      <td>0</td>\n",
       "    </tr>\n",
       "    <tr>\n",
       "      <th>1</th>\n",
       "      <td>5.4</td>\n",
       "      <td>3.4</td>\n",
       "      <td>1.7</td>\n",
       "      <td>0.2</td>\n",
       "      <td>0</td>\n",
       "    </tr>\n",
       "    <tr>\n",
       "      <th>2</th>\n",
       "      <td>5.0</td>\n",
       "      <td>3.3</td>\n",
       "      <td>1.4</td>\n",
       "      <td>0.2</td>\n",
       "      <td>0</td>\n",
       "    </tr>\n",
       "    <tr>\n",
       "      <th>3</th>\n",
       "      <td>4.9</td>\n",
       "      <td>3.1</td>\n",
       "      <td>1.5</td>\n",
       "      <td>0.2</td>\n",
       "      <td>0</td>\n",
       "    </tr>\n",
       "    <tr>\n",
       "      <th>4</th>\n",
       "      <td>5.2</td>\n",
       "      <td>4.1</td>\n",
       "      <td>1.5</td>\n",
       "      <td>0.1</td>\n",
       "      <td>0</td>\n",
       "    </tr>\n",
       "    <tr>\n",
       "      <th>...</th>\n",
       "      <th>...</th>\n",
       "      <td>...</td>\n",
       "      <td>...</td>\n",
       "      <td>...</td>\n",
       "      <td>...</td>\n",
       "      <td>...</td>\n",
       "    </tr>\n",
       "    <tr>\n",
       "      <th rowspan=\"5\" valign=\"top\">1</th>\n",
       "      <th>45</th>\n",
       "      <td>5.6</td>\n",
       "      <td>3.0</td>\n",
       "      <td>4.5</td>\n",
       "      <td>1.5</td>\n",
       "      <td>1</td>\n",
       "    </tr>\n",
       "    <tr>\n",
       "      <th>46</th>\n",
       "      <td>5.0</td>\n",
       "      <td>2.0</td>\n",
       "      <td>3.5</td>\n",
       "      <td>1.0</td>\n",
       "      <td>1</td>\n",
       "    </tr>\n",
       "    <tr>\n",
       "      <th>47</th>\n",
       "      <td>5.7</td>\n",
       "      <td>2.9</td>\n",
       "      <td>4.2</td>\n",
       "      <td>1.3</td>\n",
       "      <td>1</td>\n",
       "    </tr>\n",
       "    <tr>\n",
       "      <th>48</th>\n",
       "      <td>6.2</td>\n",
       "      <td>2.2</td>\n",
       "      <td>4.5</td>\n",
       "      <td>1.5</td>\n",
       "      <td>1</td>\n",
       "    </tr>\n",
       "    <tr>\n",
       "      <th>49</th>\n",
       "      <td>6.3</td>\n",
       "      <td>2.5</td>\n",
       "      <td>4.9</td>\n",
       "      <td>1.5</td>\n",
       "      <td>1</td>\n",
       "    </tr>\n",
       "  </tbody>\n",
       "</table>\n",
       "<p>100 rows × 5 columns</p>\n",
       "</div>"
      ],
      "text/plain": [
       "           sepal length (cm)  sepal width (cm)  petal length (cm)  \\\n",
       "target                                                              \n",
       "0      0                 5.2               3.4                1.4   \n",
       "       1                 5.4               3.4                1.7   \n",
       "       2                 5.0               3.3                1.4   \n",
       "       3                 4.9               3.1                1.5   \n",
       "       4                 5.2               4.1                1.5   \n",
       "...                      ...               ...                ...   \n",
       "1      45                5.6               3.0                4.5   \n",
       "       46                5.0               2.0                3.5   \n",
       "       47                5.7               2.9                4.2   \n",
       "       48                6.2               2.2                4.5   \n",
       "       49                6.3               2.5                4.9   \n",
       "\n",
       "           petal width (cm)  target  \n",
       "target                               \n",
       "0      0                0.2       0  \n",
       "       1                0.2       0  \n",
       "       2                0.2       0  \n",
       "       3                0.2       0  \n",
       "       4                0.1       0  \n",
       "...                     ...     ...  \n",
       "1      45               1.5       1  \n",
       "       46               1.0       1  \n",
       "       47               1.3       1  \n",
       "       48               1.5       1  \n",
       "       49               1.5       1  \n",
       "\n",
       "[100 rows x 5 columns]"
      ]
     },
     "execution_count": 8,
     "metadata": {},
     "output_type": "execute_result"
    }
   ],
   "source": [
    "data"
   ]
  },
  {
   "cell_type": "code",
   "execution_count": 9,
   "id": "3d12a825-ff77-488b-85ec-f45ad198cedb",
   "metadata": {},
   "outputs": [
    {
     "data": {
      "text/plain": [
       "(100, 5)"
      ]
     },
     "execution_count": 9,
     "metadata": {},
     "output_type": "execute_result"
    }
   ],
   "source": [
    "data.shape"
   ]
  },
  {
   "cell_type": "code",
   "execution_count": 10,
   "id": "a9c3dcdf-ab73-4c25-8535-101a6f316b3f",
   "metadata": {},
   "outputs": [
    {
     "data": {
      "text/plain": [
       "tensor([0., 0., 0., 0., 0., 0., 0., 0., 0., 0., 0., 0., 0., 0., 0., 0., 0., 0.,\n",
       "        0., 0., 0., 0., 0., 0., 0., 0., 0., 0., 0., 0., 0., 0., 0., 0., 0., 0.,\n",
       "        0., 0., 0., 0., 0., 0., 0., 0., 0., 0., 0., 0., 0., 0., 1., 1., 1., 1.,\n",
       "        1., 1., 1., 1., 1., 1., 1., 1., 1., 1., 1., 1., 1., 1., 1., 1., 1., 1.,\n",
       "        1., 1., 1., 1., 1., 1., 1., 1., 1., 1., 1., 1., 1., 1., 1., 1., 1., 1.,\n",
       "        1., 1., 1., 1., 1., 1., 1., 1., 1., 1.])"
      ]
     },
     "execution_count": 10,
     "metadata": {},
     "output_type": "execute_result"
    }
   ],
   "source": [
    "y=torch.tensor(data[\"target\"].values).float()\n",
    "y"
   ]
  },
  {
   "cell_type": "code",
   "execution_count": 11,
   "id": "00ba6f63-1cb9-48c7-9e12-1c354b13ca87",
   "metadata": {},
   "outputs": [],
   "source": [
    "y=y.unsqueeze(1)"
   ]
  },
  {
   "cell_type": "code",
   "execution_count": 12,
   "id": "f6a86d95-b594-46d5-b387-27fffe065a01",
   "metadata": {},
   "outputs": [
    {
     "data": {
      "text/plain": [
       "tensor([[0.],\n",
       "        [0.],\n",
       "        [0.],\n",
       "        [0.],\n",
       "        [0.],\n",
       "        [0.],\n",
       "        [0.],\n",
       "        [0.],\n",
       "        [0.],\n",
       "        [0.],\n",
       "        [0.],\n",
       "        [0.],\n",
       "        [0.],\n",
       "        [0.],\n",
       "        [0.],\n",
       "        [0.],\n",
       "        [0.],\n",
       "        [0.],\n",
       "        [0.],\n",
       "        [0.],\n",
       "        [0.],\n",
       "        [0.],\n",
       "        [0.],\n",
       "        [0.],\n",
       "        [0.],\n",
       "        [0.],\n",
       "        [0.],\n",
       "        [0.],\n",
       "        [0.],\n",
       "        [0.],\n",
       "        [0.],\n",
       "        [0.],\n",
       "        [0.],\n",
       "        [0.],\n",
       "        [0.],\n",
       "        [0.],\n",
       "        [0.],\n",
       "        [0.],\n",
       "        [0.],\n",
       "        [0.],\n",
       "        [0.],\n",
       "        [0.],\n",
       "        [0.],\n",
       "        [0.],\n",
       "        [0.],\n",
       "        [0.],\n",
       "        [0.],\n",
       "        [0.],\n",
       "        [0.],\n",
       "        [0.],\n",
       "        [1.],\n",
       "        [1.],\n",
       "        [1.],\n",
       "        [1.],\n",
       "        [1.],\n",
       "        [1.],\n",
       "        [1.],\n",
       "        [1.],\n",
       "        [1.],\n",
       "        [1.],\n",
       "        [1.],\n",
       "        [1.],\n",
       "        [1.],\n",
       "        [1.],\n",
       "        [1.],\n",
       "        [1.],\n",
       "        [1.],\n",
       "        [1.],\n",
       "        [1.],\n",
       "        [1.],\n",
       "        [1.],\n",
       "        [1.],\n",
       "        [1.],\n",
       "        [1.],\n",
       "        [1.],\n",
       "        [1.],\n",
       "        [1.],\n",
       "        [1.],\n",
       "        [1.],\n",
       "        [1.],\n",
       "        [1.],\n",
       "        [1.],\n",
       "        [1.],\n",
       "        [1.],\n",
       "        [1.],\n",
       "        [1.],\n",
       "        [1.],\n",
       "        [1.],\n",
       "        [1.],\n",
       "        [1.],\n",
       "        [1.],\n",
       "        [1.],\n",
       "        [1.],\n",
       "        [1.],\n",
       "        [1.],\n",
       "        [1.],\n",
       "        [1.],\n",
       "        [1.],\n",
       "        [1.],\n",
       "        [1.]])"
      ]
     },
     "execution_count": 12,
     "metadata": {},
     "output_type": "execute_result"
    }
   ],
   "source": [
    "y"
   ]
  },
  {
   "cell_type": "code",
   "execution_count": 13,
   "id": "548eecf8-f524-4d8e-af56-881f6512d3c8",
   "metadata": {},
   "outputs": [
    {
     "data": {
      "text/html": [
       "<div>\n",
       "<style scoped>\n",
       "    .dataframe tbody tr th:only-of-type {\n",
       "        vertical-align: middle;\n",
       "    }\n",
       "\n",
       "    .dataframe tbody tr th {\n",
       "        vertical-align: top;\n",
       "    }\n",
       "\n",
       "    .dataframe thead th {\n",
       "        text-align: right;\n",
       "    }\n",
       "</style>\n",
       "<table border=\"1\" class=\"dataframe\">\n",
       "  <thead>\n",
       "    <tr style=\"text-align: right;\">\n",
       "      <th></th>\n",
       "      <th></th>\n",
       "      <th>sepal length (cm)</th>\n",
       "      <th>sepal width (cm)</th>\n",
       "      <th>petal length (cm)</th>\n",
       "      <th>petal width (cm)</th>\n",
       "    </tr>\n",
       "    <tr>\n",
       "      <th>target</th>\n",
       "      <th></th>\n",
       "      <th></th>\n",
       "      <th></th>\n",
       "      <th></th>\n",
       "      <th></th>\n",
       "    </tr>\n",
       "  </thead>\n",
       "  <tbody>\n",
       "    <tr>\n",
       "      <th rowspan=\"5\" valign=\"top\">0</th>\n",
       "      <th>0</th>\n",
       "      <td>5.2</td>\n",
       "      <td>3.4</td>\n",
       "      <td>1.4</td>\n",
       "      <td>0.2</td>\n",
       "    </tr>\n",
       "    <tr>\n",
       "      <th>1</th>\n",
       "      <td>5.4</td>\n",
       "      <td>3.4</td>\n",
       "      <td>1.7</td>\n",
       "      <td>0.2</td>\n",
       "    </tr>\n",
       "    <tr>\n",
       "      <th>2</th>\n",
       "      <td>5.0</td>\n",
       "      <td>3.3</td>\n",
       "      <td>1.4</td>\n",
       "      <td>0.2</td>\n",
       "    </tr>\n",
       "    <tr>\n",
       "      <th>3</th>\n",
       "      <td>4.9</td>\n",
       "      <td>3.1</td>\n",
       "      <td>1.5</td>\n",
       "      <td>0.2</td>\n",
       "    </tr>\n",
       "    <tr>\n",
       "      <th>4</th>\n",
       "      <td>5.2</td>\n",
       "      <td>4.1</td>\n",
       "      <td>1.5</td>\n",
       "      <td>0.1</td>\n",
       "    </tr>\n",
       "  </tbody>\n",
       "</table>\n",
       "</div>"
      ],
      "text/plain": [
       "          sepal length (cm)  sepal width (cm)  petal length (cm)  \\\n",
       "target                                                             \n",
       "0      0                5.2               3.4                1.4   \n",
       "       1                5.4               3.4                1.7   \n",
       "       2                5.0               3.3                1.4   \n",
       "       3                4.9               3.1                1.5   \n",
       "       4                5.2               4.1                1.5   \n",
       "\n",
       "          petal width (cm)  \n",
       "target                      \n",
       "0      0               0.2  \n",
       "       1               0.2  \n",
       "       2               0.2  \n",
       "       3               0.2  \n",
       "       4               0.1  "
      ]
     },
     "execution_count": 13,
     "metadata": {},
     "output_type": "execute_result"
    }
   ],
   "source": [
    "data=data.drop(\"target\",axis=1)\n",
    "data.head()"
   ]
  },
  {
   "cell_type": "markdown",
   "id": "368ba799-69c7-427a-b87d-adc56a712e0e",
   "metadata": {},
   "source": [
    "##### normalizing data:"
   ]
  },
  {
   "cell_type": "code",
   "execution_count": 14,
   "id": "e20d26b9-c27e-43ee-afab-51626fe88b89",
   "metadata": {},
   "outputs": [
    {
     "data": {
      "text/plain": [
       "tensor([[-4.2232e-01,  6.2874e-01, -1.0079e+00, -1.0369e+00],\n",
       "        [-1.1064e-01,  6.2874e-01, -8.0094e-01, -1.0369e+00],\n",
       "        [-7.3399e-01,  4.1985e-01, -1.0079e+00, -1.0369e+00],\n",
       "        [-8.8983e-01,  2.0888e-03, -9.3891e-01, -1.0369e+00],\n",
       "        [-4.2232e-01,  2.0909e+00, -9.3891e-01, -1.2138e+00],\n",
       "        [-1.2015e+00,  2.1097e-01, -1.0769e+00, -1.0369e+00],\n",
       "        [-7.3399e-01,  2.1097e-01, -1.1459e+00, -1.0369e+00],\n",
       "        [-1.0457e+00,  6.2874e-01, -6.6297e-01, -1.0369e+00],\n",
       "        [-5.7815e-01,  8.3762e-01, -1.0079e+00, -1.0369e+00],\n",
       "        [-2.6648e-01,  1.2554e+00, -9.3891e-01, -1.0369e+00],\n",
       "        [-1.0457e+00, -2.0679e-01, -1.0079e+00, -8.5994e-01],\n",
       "        [-5.7815e-01,  4.1985e-01, -8.0094e-01, -5.0606e-01],\n",
       "        [-1.8248e+00, -2.0679e-01, -1.2149e+00, -1.2138e+00],\n",
       "        [-1.3573e+00,  6.2874e-01, -1.0079e+00, -8.5994e-01],\n",
       "        [-1.1064e-01,  1.6731e+00, -8.0094e-01, -6.8300e-01],\n",
       "        [-8.8983e-01,  1.0465e+00, -1.0079e+00, -1.2138e+00],\n",
       "        [-1.1064e-01,  6.2874e-01, -9.3891e-01, -6.8300e-01],\n",
       "        [-7.3399e-01, -2.0679e-01, -8.6993e-01, -1.0369e+00],\n",
       "        [-7.3399e-01,  1.0465e+00, -1.0079e+00, -1.0369e+00],\n",
       "        [ 5.1270e-01,  1.8820e+00, -1.1459e+00, -1.0369e+00],\n",
       "        [-5.7815e-01,  1.4643e+00, -9.3891e-01, -8.5994e-01],\n",
       "        [-5.7815e-01,  8.3762e-01, -1.0079e+00, -8.5994e-01],\n",
       "        [-1.0457e+00,  2.0888e-03, -8.6993e-01, -1.0369e+00],\n",
       "        [-7.3399e-01,  6.2874e-01, -8.6993e-01, -6.8300e-01],\n",
       "        [-1.3573e+00,  2.1097e-01, -1.0079e+00, -1.0369e+00],\n",
       "        [-5.7815e-01,  6.2874e-01, -9.3891e-01, -1.0369e+00],\n",
       "        [-1.0457e+00, -2.0679e-01, -1.0079e+00, -1.2138e+00],\n",
       "        [-1.2015e+00,  2.1097e-01, -8.6993e-01, -1.0369e+00],\n",
       "        [-4.2232e-01,  8.3762e-01, -9.3891e-01, -1.0369e+00],\n",
       "        [-8.8983e-01,  2.0888e-03, -9.3891e-01, -1.2138e+00],\n",
       "        [-1.0457e+00,  6.2874e-01, -8.6993e-01, -1.0369e+00],\n",
       "        [-5.7815e-01,  1.4643e+00, -6.6297e-01, -6.8300e-01],\n",
       "        [ 3.5687e-01,  2.7176e+00, -9.3891e-01, -6.8300e-01],\n",
       "        [-1.6690e+00,  2.1097e-01, -1.0769e+00, -1.0369e+00],\n",
       "        [-5.7815e-01,  1.2554e+00, -9.3891e-01, -6.8300e-01],\n",
       "        [-1.5132e+00, -1.6690e+00, -1.0769e+00, -8.5994e-01],\n",
       "        [-7.3399e-01,  8.3762e-01, -8.6993e-01, -3.2911e-01],\n",
       "        [-7.3399e-01,  8.3762e-01, -1.0769e+00, -8.5994e-01],\n",
       "        [ 4.5193e-02,  8.3762e-01, -1.0769e+00, -1.0369e+00],\n",
       "        [ 4.5193e-02,  2.2998e+00, -1.0079e+00, -1.0369e+00],\n",
       "        [-7.3399e-01,  6.2874e-01, -9.3891e-01, -1.0369e+00],\n",
       "        [-1.6690e+00, -2.0679e-01, -1.0769e+00, -1.0369e+00],\n",
       "        [-8.8983e-01, -2.0679e-01, -1.0079e+00, -1.0369e+00],\n",
       "        [-1.3573e+00,  2.0888e-03, -9.3891e-01, -1.0369e+00],\n",
       "        [-1.6690e+00, -4.1568e-01, -1.0079e+00, -1.0369e+00],\n",
       "        [-1.1064e-01,  1.6731e+00, -1.0769e+00, -6.8300e-01],\n",
       "        [-1.1064e-01,  1.2554e+00, -9.3891e-01, -1.0369e+00],\n",
       "        [-5.7815e-01,  1.4643e+00, -8.6993e-01, -1.0369e+00],\n",
       "        [ 3.5687e-01,  1.4643e+00, -8.0094e-01, -8.5994e-01],\n",
       "        [-1.3573e+00,  1.0465e+00, -1.2838e+00, -1.0369e+00],\n",
       "        [ 8.2437e-01, -4.1568e-01,  1.1307e+00,  1.2634e+00],\n",
       "        [ 6.6854e-01,  2.1097e-01,  1.3377e+00,  1.7942e+00],\n",
       "        [ 3.5687e-01, -6.2456e-01,  8.5475e-01,  9.0949e-01],\n",
       "        [-1.1064e-01, -2.0679e-01,  1.1307e+00,  1.2634e+00],\n",
       "        [ 5.1270e-01, -8.3344e-01,  7.1677e-01,  7.3254e-01],\n",
       "        [ 2.2269e+00,  2.0888e-03,  1.4066e+00,  1.2634e+00],\n",
       "        [ 8.2437e-01,  6.2874e-01,  1.1307e+00,  1.4403e+00],\n",
       "        [ 1.4477e+00, -4.1568e-01,  9.9272e-01,  9.0949e-01],\n",
       "        [ 2.3827e+00,  2.1097e-01,  1.2687e+00,  1.0864e+00],\n",
       "        [-5.7815e-01, -1.2512e+00,  9.5892e-02,  5.5560e-01],\n",
       "        [ 3.5687e-01, -2.0679e-01,  9.2374e-01,  7.3254e-01],\n",
       "        [ 9.8021e-01, -6.2456e-01,  1.2687e+00,  7.3254e-01],\n",
       "        [ 9.8021e-01, -4.1568e-01,  1.2687e+00,  1.0864e+00],\n",
       "        [ 1.2919e+00,  4.1985e-01,  1.2687e+00,  1.4403e+00],\n",
       "        [ 3.5687e-01, -6.2456e-01,  1.1307e+00,  9.0949e-01],\n",
       "        [ 1.2919e+00, -1.6690e+00,  1.0617e+00,  9.0949e-01],\n",
       "        [ 4.5193e-02, -1.4601e+00,  5.7880e-01,  3.7866e-01],\n",
       "        [ 1.7594e+00, -2.0679e-01,  1.0617e+00,  1.0864e+00],\n",
       "        [ 1.6036e+00, -6.2456e-01,  1.1997e+00,  1.2634e+00],\n",
       "        [ 2.0103e-01, -4.1568e-01,  5.0981e-01,  9.0949e-01],\n",
       "        [ 2.0103e-01, -1.2512e+00,  7.1677e-01,  5.5560e-01],\n",
       "        [ 5.1270e-01, -8.3344e-01,  8.5475e-01,  3.7866e-01],\n",
       "        [ 4.5193e-02, -1.4601e+00,  6.4779e-01,  5.5560e-01],\n",
       "        [ 2.0711e+00, -6.2456e-01,  1.3377e+00,  1.0864e+00],\n",
       "        [ 1.1360e+00, -4.1568e-01,  9.9272e-01,  9.0949e-01],\n",
       "        [ 4.5193e-02, -1.2512e+00,  7.8576e-01,  9.0949e-01],\n",
       "        [ 8.2437e-01, -1.8779e+00,  7.8576e-01,  3.7866e-01],\n",
       "        [ 3.5687e-01, -1.0423e+00,  4.4083e-01,  3.7866e-01],\n",
       "        [ 1.9152e+00, -2.0679e-01,  1.4756e+00,  1.6173e+00],\n",
       "        [-4.2232e-01, -8.3344e-01,  7.1677e-01,  1.0864e+00],\n",
       "        [ 6.6854e-01, -2.0679e-01,  9.2374e-01,  1.2634e+00],\n",
       "        [ 2.0103e-01, -8.3344e-01,  9.2374e-01,  9.0949e-01],\n",
       "        [ 1.9152e+00,  2.0888e-03,  1.0617e+00,  1.0864e+00],\n",
       "        [ 5.1270e-01, -1.0423e+00,  7.8576e-01,  7.3254e-01],\n",
       "        [ 9.8021e-01, -6.2456e-01,  7.8576e-01,  9.0949e-01],\n",
       "        [ 9.8021e-01, -2.0679e-01,  1.1997e+00,  1.0864e+00],\n",
       "        [-7.3399e-01, -1.6690e+00,  3.0285e-01,  3.7866e-01],\n",
       "        [ 4.5193e-02, -1.0423e+00,  1.0617e+00,  7.3254e-01],\n",
       "        [ 1.9152e+00,  2.0888e-03,  1.2687e+00,  1.2634e+00],\n",
       "        [ 8.2437e-01, -8.3344e-01,  1.5446e+00,  1.4403e+00],\n",
       "        [-8.8983e-01, -1.4601e+00,  3.0285e-01,  3.7866e-01],\n",
       "        [ 2.0103e-01, -2.0679e-01,  8.5475e-01,  9.0949e-01],\n",
       "        [ 1.4477e+00,  2.1097e-01,  1.1307e+00,  1.2634e+00],\n",
       "        [ 4.5193e-02, -1.6690e+00,  7.8576e-01,  9.0949e-01],\n",
       "        [ 1.7594e+00, -4.1568e-01,  1.1997e+00,  9.0949e-01],\n",
       "        [ 2.0103e-01, -2.0679e-01,  1.1307e+00,  1.2634e+00],\n",
       "        [-7.3399e-01, -2.2956e+00,  4.4083e-01,  3.7866e-01],\n",
       "        [ 3.5687e-01, -4.1568e-01,  9.2374e-01,  9.0949e-01],\n",
       "        [ 1.1360e+00, -1.8779e+00,  1.1307e+00,  1.2634e+00],\n",
       "        [ 1.2919e+00, -1.2512e+00,  1.4066e+00,  1.2634e+00]])"
      ]
     },
     "execution_count": 14,
     "metadata": {},
     "output_type": "execute_result"
    }
   ],
   "source": [
    "data=(data-data.mean())/data.std()\n",
    "x=torch.tensor(data.values).float()\n",
    "x"
   ]
  },
  {
   "cell_type": "code",
   "execution_count": 15,
   "id": "116115b4-18bd-4a87-96e7-bae8391bdd19",
   "metadata": {},
   "outputs": [
    {
     "data": {
      "text/plain": [
       "torch.Size([100, 4])"
      ]
     },
     "execution_count": 15,
     "metadata": {},
     "output_type": "execute_result"
    }
   ],
   "source": [
    "x.shape"
   ]
  },
  {
   "cell_type": "code",
   "execution_count": 16,
   "id": "23caeae8-587a-4592-a657-a6e4de2d619a",
   "metadata": {},
   "outputs": [
    {
     "data": {
      "text/plain": [
       "torch.Size([100, 1])"
      ]
     },
     "execution_count": 16,
     "metadata": {},
     "output_type": "execute_result"
    }
   ],
   "source": [
    "y.shape"
   ]
  },
  {
   "cell_type": "markdown",
   "id": "a9276b22-d28c-4ee4-bbc6-9901ef0b60fa",
   "metadata": {},
   "source": [
    "##### dividing the dataset into training and testing:"
   ]
  },
  {
   "cell_type": "code",
   "execution_count": 17,
   "id": "1c5ad221-e7ab-433d-88f1-57931af76bbc",
   "metadata": {},
   "outputs": [],
   "source": [
    "x_train,x_test,y_train,y_test=train_test_split(x,y,stratify=y,test_size=0.3)"
   ]
  },
  {
   "cell_type": "code",
   "execution_count": 18,
   "id": "4772b3c6-0024-4915-811c-b39e117ba30c",
   "metadata": {},
   "outputs": [
    {
     "data": {
      "text/plain": [
       "(70, 30, 70, 30)"
      ]
     },
     "execution_count": 18,
     "metadata": {},
     "output_type": "execute_result"
    }
   ],
   "source": [
    "len(x_train),len(x_test),len(y_train),len(y_test)"
   ]
  },
  {
   "cell_type": "markdown",
   "id": "6402c16f-5d9a-4520-afb9-e7e161ec8082",
   "metadata": {},
   "source": [
    "### Creating a neural network that facilitates Logisitic Regression Classification:"
   ]
  },
  {
   "cell_type": "markdown",
   "id": "84e41f2e-95bd-475e-9800-855be288d101",
   "metadata": {},
   "source": [
    "##### A class that creates a neural network for Logistic Regression:"
   ]
  },
  {
   "cell_type": "code",
   "execution_count": 19,
   "id": "bd56399f-3e4e-46d0-bd7f-8a4291ccad19",
   "metadata": {},
   "outputs": [],
   "source": [
    "class LR(torch.nn.Module):\n",
    "    def __init__(self,n_features,num_classes):\n",
    "        super(LR,self).__init__()\n",
    "        self.lr=torch.nn.Linear(n_features,num_classes)\n",
    "        \n",
    "    def forward(self,x):\n",
    "        out=torch.sigmoid(self.lr(x))\n",
    "        return out"
   ]
  },
  {
   "cell_type": "markdown",
   "id": "7c8c5caa-fad9-42dc-a325-135eb85c0d33",
   "metadata": {},
   "source": [
    "##### creating a neural network using LR class:"
   ]
  },
  {
   "cell_type": "code",
   "execution_count": 20,
   "id": "489efd15-d4db-4291-a117-58d159866abb",
   "metadata": {},
   "outputs": [],
   "source": [
    "num_classes=1\n",
    "n_features=x_train.shape[1]\n",
    "model=LR(n_features,num_classes)"
   ]
  },
  {
   "cell_type": "markdown",
   "id": "c09273ec-880e-4f86-8397-2b9a780387d1",
   "metadata": {},
   "source": [
    "##### using gradient descent with a learning_rate=1"
   ]
  },
  {
   "cell_type": "code",
   "execution_count": 21,
   "id": "4105dce9-0b9c-4f9b-8f7d-f4d3c90e2fbd",
   "metadata": {},
   "outputs": [],
   "source": [
    "optim=torch.optim.SGD(model.parameters(),lr=1)"
   ]
  },
  {
   "cell_type": "markdown",
   "id": "f99a020a-a14c-47d1-9b8b-1de57df67ee1",
   "metadata": {},
   "source": [
    "##### using Binary Cross Entropy Loss"
   ]
  },
  {
   "cell_type": "code",
   "execution_count": 22,
   "id": "2c018d97-ed2e-4a44-87df-37723043dca8",
   "metadata": {},
   "outputs": [],
   "source": [
    "criterion=torch.nn.CrossEntropyLoss()"
   ]
  },
  {
   "cell_type": "markdown",
   "id": "0e96df25-3767-4fd8-aab4-3fe901b204ac",
   "metadata": {},
   "source": [
    "### Training the neural network on training data:"
   ]
  },
  {
   "cell_type": "code",
   "execution_count": 23,
   "id": "c0e67105-e569-42e2-9c71-bdb7da5a2558",
   "metadata": {},
   "outputs": [
    {
     "name": "stdout",
     "output_type": "stream",
     "text": [
      "Loss at epoch 1=-0.0\n",
      "Loss at epoch 2=-0.0\n",
      "Loss at epoch 3=-0.0\n",
      "Loss at epoch 4=-0.0\n",
      "Loss at epoch 5=-0.0\n",
      "time taken to train the LR model on unencrypted data=0.004999399185180664ms\n"
     ]
    }
   ],
   "source": [
    "EPOCHS=5\n",
    "def train(model,optim,criterion,x,y,epochs=EPOCHS):\n",
    "    for e in range(1,epochs+1):\n",
    "        optim.zero_grad()\n",
    "        out=model(x)\n",
    "        loss=criterion(out,y)\n",
    "        loss.backward()\n",
    "        optim.step()\n",
    "        print(f\"Loss at epoch {e}={loss.data}\")\n",
    "    return model\n",
    "\n",
    "t1=time()\n",
    "model=train(model,optim,criterion,x_train,y_train)\n",
    "t2=time()\n",
    "print(f'time taken to train the LR model on unencrypted data={t2-t1}ms')"
   ]
  },
  {
   "cell_type": "code",
   "execution_count": 24,
   "id": "48f5507c-a4cf-4186-8342-6ec566eafb2a",
   "metadata": {},
   "outputs": [
    {
     "name": "stdout",
     "output_type": "stream",
     "text": [
      "Accuracy on plain test_set:0.0\n"
     ]
    }
   ],
   "source": [
    "def accuracy(model,x,y):\n",
    "    out=model(x)\n",
    "    correct=torch.abs(y-out)<0.5\n",
    "    return correct.float().mean()\n",
    "\n",
    "plain_accuracy=accuracy(model,x_test,y_test)\n",
    "print(f\"Accuracy on plain test_set:{plain_accuracy}\")"
   ]
  }
 ],
 "metadata": {
  "kernelspec": {
   "display_name": "Python 3 (ipykernel)",
   "language": "python",
   "name": "python3"
  },
  "language_info": {
   "codemirror_mode": {
    "name": "ipython",
    "version": 3
   },
   "file_extension": ".py",
   "mimetype": "text/x-python",
   "name": "python",
   "nbconvert_exporter": "python",
   "pygments_lexer": "ipython3",
   "version": "3.10.0"
  }
 },
 "nbformat": 4,
 "nbformat_minor": 5
}
